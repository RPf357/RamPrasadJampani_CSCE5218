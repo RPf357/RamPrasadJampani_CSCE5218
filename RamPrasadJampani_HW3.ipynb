{
  "cells": [
    {
      "cell_type": "markdown",
      "metadata": {
        "id": "vYiZq0X2oB5t"
      },
      "source": [
        "# **CSCE 5218 / CSCE 4930 Deep Learning**\n",
        "\n",
        "# **The Perceptron** (20 pt)\n"
      ]
    },
    {
      "cell_type": "code",
      "execution_count": 1,
      "metadata": {
        "colab": {
          "base_uri": "https://localhost:8080/"
        },
        "id": "vGVmKzgG2Ium",
        "outputId": "0451c732-12e1-474b-bfaf-56968de5f4bc"
      },
      "outputs": [
        {
          "output_type": "execute_result",
          "data": {
            "text/plain": [
              "['  % Total    % Received % Xferd  Average Speed   Time    Time     Time  Current',\n",
              " '                                 Dload  Upload   Total   Spent    Left  Speed',\n",
              " '',\n",
              " '  0     0    0     0    0     0      0      0 --:--:-- --:--:-- --:--:--     0',\n",
              " '  0     0    0     0    0     0      0      0 --:--:-- --:--:-- --:--:--     0',\n",
              " '100 11645  100 11645    0     0  30282      0 --:--:-- --:--:-- --:--:-- 30246']"
            ]
          },
          "metadata": {},
          "execution_count": 1
        }
      ],
      "source": [
        "# Get the datasets\n",
        "!!/usr/bin/curl --output test.dat https://raw.githubusercontent.com/huangyanann/CSCE5218/main/test_small.txt\n",
        "!!/usr/bin/curl --output train.dat https://raw.githubusercontent.com/huangyanann/CSCE5218/main/train.txt\n"
      ]
    },
    {
      "cell_type": "code",
      "execution_count": 2,
      "metadata": {
        "colab": {
          "base_uri": "https://localhost:8080/"
        },
        "id": "A69DxPSc8vNs",
        "outputId": "2891c662-2a16-4181-8b8b-df37680b5c15"
      },
      "outputs": [
        {
          "output_type": "stream",
          "name": "stdout",
          "text": [
            "A1\tA2\tA3\tA4\tA5\tA6\tA7\tA8\tA9\tA10\tA11\tA12\tA13\t\r\n",
            "1\t1\t0\t0\t0\t0\t0\t0\t1\t1\t0\t0\t1\t0\r\n",
            "0\t0\t1\t1\t0\t1\t1\t0\t0\t0\t0\t0\t1\t0\r\n",
            "0\t1\t0\t1\t1\t0\t1\t0\t1\t1\t1\t0\t1\t1\r\n",
            "0\t0\t1\t0\t0\t1\t0\t1\t0\t1\t1\t1\t1\t0\r\n",
            "0\t1\t0\t0\t0\t0\t0\t1\t1\t1\t1\t1\t1\t0\r\n",
            "0\t1\t1\t1\t0\t0\t0\t1\t0\t1\t1\t0\t1\t1\r\n",
            "0\t1\t1\t0\t0\t0\t1\t0\t0\t0\t0\t0\t1\t0\r\n",
            "0\t0\t0\t1\t1\t0\t1\t1\t1\t0\t0\t0\t1\t0\r\n",
            "0\t0\t0\t0\t0\t0\t1\t0\t1\t0\t1\t0\t1\t0\n",
            "X1\tX2\tX3\n",
            "1\t1\t1\t1\n",
            "0\t0\t1\t1\n",
            "0\t1\t1\t0\n",
            "0\t1\t1\t0\n",
            "0\t1\t1\t0\n",
            "0\t1\t1\t0\n",
            "0\t1\t1\t0\n",
            "0\t1\t1\t0\n",
            "1\t1\t1\t1\n"
          ]
        }
      ],
      "source": [
        "# Take a peek at the datasets\n",
        "!head train.dat\n",
        "!head test.dat"
      ]
    },
    {
      "cell_type": "markdown",
      "metadata": {
        "id": "rFXHLhnhwiBR"
      },
      "source": [
        "### Build the Perceptron Model\n",
        "\n",
        "You will need to complete some of the function definitions below.  DO NOT import any other libraries to complete this."
      ]
    },
    {
      "cell_type": "code",
      "source": [
        "import math\n",
        "import itertools\n",
        "import re\n",
        "\n",
        "# Corpus reader, all columns but the last one are coordinates;\n",
        "#   the last column is the label\n",
        "def read_data(file_name):\n",
        "    with open(file_name, 'r') as f:\n",
        "        data = []\n",
        "        # Discard header line\n",
        "        f.readline()\n",
        "        for instance in f.readlines():\n",
        "            if not re.search('\\t', instance): continue\n",
        "            instance = list(map(int, instance.strip().split('\\t')))\n",
        "            # Add a dummy input so that w0 becomes the bias\n",
        "            instance = [-1] + instance\n",
        "            data.append(instance)\n",
        "    return data\n",
        "\n",
        "def dot_product(array1, array2):\n",
        "    return sum(x * y for x, y in zip(array1, array2))\n",
        "\n",
        "def sigmoid(x):\n",
        "    return 1 / (1 + math.exp(-x))\n",
        "\n",
        "\n",
        "def output(weight, instance):\n",
        "    return sigmoid(dot_product(weight, instance[:-1]))\n",
        "\n",
        "# Predict the label of an instance; this is the definition of the perceptron\n",
        "# you should output 1 if the output is >= 0.5 else output 0\n",
        "def predict(weights, instance):\n",
        "    return 1 if output(weights, instance) >= 0.5 else 0\n",
        "\n",
        "# Accuracy = percent of correct predictions\n",
        "def get_accuracy(weights, instances):\n",
        "    correct = sum([1 if predict(weights, instance) == instance[-1] else 0\n",
        "                   for instance in instances])\n",
        "    return correct * 100 / len(instances)\n",
        "\n",
        "\n",
        "def train_perceptron(instances, lr, epochs):\n",
        "    # Initialize weights\n",
        "    weights = [0] * (len(instances[0])-1)\n",
        "\n",
        "    for _ in range(epochs):\n",
        "        for instance in instances:\n",
        "            # Calculate the input value from the current weights and instance\n",
        "            in_value = dot_product(weights, instance[:-1])\n",
        "            # Calculate the model's prediction using sigmoid activation\n",
        "            output_val = sigmoid(in_value)\n",
        "            # Calculate the prediction error\n",
        "            error = instance[-1] - output_val\n",
        "            # Update weights based on the error and the learning rate\n",
        "            for i in range(len(weights)):\n",
        "                weights[i] += lr * error * output_val * (1 - output_val) * instance[i]\n",
        "\n",
        "    return weights\n"
      ],
      "metadata": {
        "id": "-qpimtkSm74V"
      },
      "execution_count": 3,
      "outputs": []
    },
    {
      "cell_type": "markdown",
      "metadata": {
        "id": "adBZuMlAwiBT"
      },
      "source": [
        "## Run it"
      ]
    },
    {
      "cell_type": "code",
      "execution_count": 4,
      "metadata": {
        "id": "50YvUza-BYQF",
        "colab": {
          "base_uri": "https://localhost:8080/"
        },
        "outputId": "5eb4c459-11ae-4c6c-be6e-5e74c3fa3b24"
      },
      "outputs": [
        {
          "output_type": "stream",
          "name": "stdout",
          "text": [
            "#tr: 400, epochs:   5, learning rate: 0.005; Accuracy (test, 14 instances): 71.4\n"
          ]
        }
      ],
      "source": [
        "instances_tr = read_data(\"train.dat\")\n",
        "instances_te = read_data(\"test.dat\")\n",
        "lr = 0.005\n",
        "epochs = 5\n",
        "weights = train_perceptron(instances_tr, lr, epochs)\n",
        "accuracy = get_accuracy(weights, instances_te)\n",
        "print(f\"#tr: {len(instances_tr):3}, epochs: {epochs:3}, learning rate: {lr:.3f}; \"\n",
        "      f\"Accuracy (test, {len(instances_te)} instances): {accuracy:.1f}\")"
      ]
    },
    {
      "cell_type": "markdown",
      "metadata": {
        "id": "CBXkvaiQMohX"
      },
      "source": [
        "## Questions\n",
        "\n",
        "Answer the following questions. Include your implementation and the output for each question."
      ]
    },
    {
      "cell_type": "markdown",
      "metadata": {
        "id": "YCQ6BEk1CBlr"
      },
      "source": [
        "\n",
        "\n",
        "### Question 1\n",
        "\n",
        "In `train_perceptron(instances, lr, epochs)`, we have the follosing code:\n",
        "```\n",
        "in_value = dot_product(weights, instance)\n",
        "output = sigmoid(in_value)\n",
        "error = instance[-1] - output\n",
        "```\n",
        "\n",
        "Why don't we have the following code snippet instead?\n",
        "```\n",
        "output = predict(weights, instance)\n",
        "error = instance[-1] - output\n",
        "```\n",
        "\n",
        "#### TODO Add your answer here (text only)\n",
        "\n",
        "\n"
      ]
    },
    {
      "cell_type": "markdown",
      "source": [
        "# Answer Q1\n",
        "\n",
        "The properties of the perceptron model and its learning method is the main reason we avoid using the predict function in the train_perceptron function's training loop instead of directly calculating output.\n",
        "\n",
        "Depending on if the sigmoid output is larger than or equal to 0.5, the predict function gives a binary result (either 0 or 1).  When training a neural network model, such as a perceptron, the weights are usually adjusted to minimize a loss function or error of some kind.\n",
        "\n",
        " * The continuous output between the sigmoid function, which can vary from 0 to 1, is what we compute during training.\n",
        "\n",
        " * The derivative of the error in relation to the weights would be 0 practically everywhere if we used the predict function because the output would be binary.\n",
        "\n",
        "\n",
        "\n"
      ],
      "metadata": {
        "id": "zTRcVgkyo1fQ"
      }
    },
    {
      "cell_type": "markdown",
      "metadata": {
        "id": "JU3c3m6YL2rK"
      },
      "source": [
        "### Question 2\n",
        "Train the perceptron with the following hyperparameters and calculate the accuracy with the test dataset.\n",
        "\n",
        "```\n",
        "tr_percent = [5, 10, 25, 50, 75, 100] # percent of the training dataset to train with\n",
        "num_epochs = [5, 10, 20, 50, 100]              # number of epochs\n",
        "lr = [0.005, 0.01, 0.05]              # learning rate\n",
        "```\n",
        "\n",
        "TODO: Write your code below and include the output at the end of each training loop (NOT AFTER EACH EPOCH)\n",
        "of your code.The output should look like the following:\n",
        "```\n",
        "# tr:  20, epochs:   5, learning rate: 0.005; Accuracy (test, 100 instances): 68.0\n",
        "# tr:  20, epochs:  10, learning rate: 0.005; Accuracy (test, 100 instances): 68.0\n",
        "# tr:  20, epochs:  20, learning rate: 0.005; Accuracy (test, 100 instances): 68.0\n",
        "[and so on for all the combinations]\n",
        "```\n",
        "You will get different results with different hyperparameters.\n",
        "\n",
        "#### TODO Add your answer here (code and output in the format above)\n"
      ]
    },
    {
      "cell_type": "code",
      "execution_count": null,
      "metadata": {
        "id": "G-VKJOUu2BTp"
      },
      "outputs": [],
      "source": [
        "instances_tr = read_data(\"train.dat\")\n",
        "instances_te = read_data(\"test.dat\")\n",
        "tr_percent = [5, 10, 25, 50, 75, 100] # percent of the training dataset to train with\n",
        "num_epochs = [5, 10, 20, 50, 100]     # number of epochs\n",
        "lr_array = [0.005, 0.01, 0.05]        # learning rate\n",
        "\n",
        "for lr in lr_array:\n",
        "  for tr_size in tr_percent:\n",
        "    for epochs in num_epochs:\n",
        "      size =  round(len(instances_tr)*tr_size/100)\n",
        "      pre_instances = instances_tr[0:size]\n",
        "      weights = train_perceptron(pre_instances, lr, epochs)\n",
        "      accuracy = get_accuracy(weights, instances_te)\n",
        "    print(f\"#tr: {len(pre_instances):0}, epochs: {epochs:3}, learning rate: {lr:.3f}; \"\n",
        "            f\"Accuracy (test, {len(instances_te)} instances): {accuracy:.1f}\")"
      ]
    },
    {
      "cell_type": "code",
      "source": [
        "import math\n",
        "import re\n",
        "\n",
        "class Perceptron:\n",
        "    def __init__(self, learning_rate, epochs):\n",
        "        self.learning_rate = learning_rate\n",
        "        self.epochs = epochs\n",
        "        self.weights = []\n",
        "\n",
        "    @staticmethod\n",
        "    def dot_product(array1, array2):\n",
        "        return sum(a * b for a, b in zip(array1, array2))\n",
        "\n",
        "    @staticmethod\n",
        "    def sigmoid(x):\n",
        "        return 1 / (1 + math.exp(-x))\n",
        "\n",
        "    def output(self, instance):\n",
        "        return self.sigmoid(self.dot_product(self.weights, instance[:-1]))\n",
        "\n",
        "    def predict(self, instance):\n",
        "        return 1 if self.output(instance) >= 0.5 else 0\n",
        "\n",
        "    def train(self, instances):\n",
        "        self.weights = [0] * (len(instances[0])-1)\n",
        "        for _ in range(self.epochs):\n",
        "            for instance in instances:\n",
        "                in_value = self.dot_product(self.weights, instance[:-1])\n",
        "                output = self.sigmoid(in_value)\n",
        "                error = instance[-1] - output\n",
        "                for i in range(len(self.weights)):\n",
        "                    self.weights[i] += self.learning_rate * error * output * (1 - output) * instance[i]\n",
        "\n",
        "    def get_accuracy(self, instances):\n",
        "        correct = sum(1 for instance in instances if self.predict(instance) == instance[-1])\n",
        "        return correct * 100 / len(instances)\n",
        "\n",
        "def read_data(file_name):\n",
        "    with open(file_name, 'r') as f:\n",
        "        data = []\n",
        "        f.readline()  # Discard header line\n",
        "        for instance in f.readlines():\n",
        "            if not re.search('\\t', instance):\n",
        "                continue\n",
        "            instance = list(map(int, instance.strip().split('\\t')))\n",
        "            instance = [-1] + instance  # Add a dummy input so that w0 becomes the bias\n",
        "            data.append(instance)\n",
        "    return data\n",
        "\n",
        "def run_experiment(train_data, test_data, learning_rates, epochs_list, training_percentages):\n",
        "    results = []\n",
        "    for lr in learning_rates:\n",
        "        for epochs in epochs_list:\n",
        "            for tr_size in training_percentages:\n",
        "                size = round(len(train_data) * tr_size / 100)\n",
        "                pre_instances = train_data[:size]\n",
        "                perceptron = Perceptron(learning_rate=lr, epochs=epochs)\n",
        "                perceptron.train(pre_instances)\n",
        "                accuracy = perceptron.get_accuracy(test_data)\n",
        "                results.append((tr_size, epochs, lr, accuracy))\n",
        "    return results\n",
        "\n",
        "# Assuming 'train.dat' and 'test.dat' are properly formatted and exist\n",
        "train_data = read_data(\"train.dat\")\n",
        "test_data = read_data(\"test.dat\")\n",
        "\n",
        "# Set hyperparameters\n",
        "learning_rates = [0.005, 0.01, 0.05]\n",
        "epochs_list = [5, 10, 20, 50, 100]\n",
        "training_percentages = [5, 10, 25, 50, 75, 100]\n",
        "\n",
        "# Run the experiments\n",
        "experiment_results = run_experiment(train_data, test_data, learning_rates, epochs_list, training_percentages)\n",
        "\n",
        "# Print results\n",
        "for tr_size, epochs, lr, accuracy in experiment_results:\n",
        "    print(f\"# tr: {tr_size}, epochs: {epochs}, learning rate: {lr:.3f}; Accuracy (test, {len(test_data)} instances): {accuracy:.1f}\")\n"
      ],
      "metadata": {
        "colab": {
          "base_uri": "https://localhost:8080/"
        },
        "id": "4EktUzGvy1P7",
        "outputId": "8db309a4-04fb-445e-b149-98a660009deb"
      },
      "execution_count": 7,
      "outputs": [
        {
          "output_type": "stream",
          "name": "stdout",
          "text": [
            "# tr: 5, epochs: 5, learning rate: 0.005; Accuracy (test, 14 instances): 71.4\n",
            "# tr: 10, epochs: 5, learning rate: 0.005; Accuracy (test, 14 instances): 71.4\n",
            "# tr: 25, epochs: 5, learning rate: 0.005; Accuracy (test, 14 instances): 71.4\n",
            "# tr: 50, epochs: 5, learning rate: 0.005; Accuracy (test, 14 instances): 71.4\n",
            "# tr: 75, epochs: 5, learning rate: 0.005; Accuracy (test, 14 instances): 71.4\n",
            "# tr: 100, epochs: 5, learning rate: 0.005; Accuracy (test, 14 instances): 71.4\n",
            "# tr: 5, epochs: 10, learning rate: 0.005; Accuracy (test, 14 instances): 71.4\n",
            "# tr: 10, epochs: 10, learning rate: 0.005; Accuracy (test, 14 instances): 71.4\n",
            "# tr: 25, epochs: 10, learning rate: 0.005; Accuracy (test, 14 instances): 71.4\n",
            "# tr: 50, epochs: 10, learning rate: 0.005; Accuracy (test, 14 instances): 71.4\n",
            "# tr: 75, epochs: 10, learning rate: 0.005; Accuracy (test, 14 instances): 71.4\n",
            "# tr: 100, epochs: 10, learning rate: 0.005; Accuracy (test, 14 instances): 71.4\n",
            "# tr: 5, epochs: 20, learning rate: 0.005; Accuracy (test, 14 instances): 71.4\n",
            "# tr: 10, epochs: 20, learning rate: 0.005; Accuracy (test, 14 instances): 71.4\n",
            "# tr: 25, epochs: 20, learning rate: 0.005; Accuracy (test, 14 instances): 71.4\n",
            "# tr: 50, epochs: 20, learning rate: 0.005; Accuracy (test, 14 instances): 71.4\n",
            "# tr: 75, epochs: 20, learning rate: 0.005; Accuracy (test, 14 instances): 71.4\n",
            "# tr: 100, epochs: 20, learning rate: 0.005; Accuracy (test, 14 instances): 71.4\n",
            "# tr: 5, epochs: 50, learning rate: 0.005; Accuracy (test, 14 instances): 71.4\n",
            "# tr: 10, epochs: 50, learning rate: 0.005; Accuracy (test, 14 instances): 71.4\n",
            "# tr: 25, epochs: 50, learning rate: 0.005; Accuracy (test, 14 instances): 71.4\n",
            "# tr: 50, epochs: 50, learning rate: 0.005; Accuracy (test, 14 instances): 71.4\n",
            "# tr: 75, epochs: 50, learning rate: 0.005; Accuracy (test, 14 instances): 71.4\n",
            "# tr: 100, epochs: 50, learning rate: 0.005; Accuracy (test, 14 instances): 71.4\n",
            "# tr: 5, epochs: 100, learning rate: 0.005; Accuracy (test, 14 instances): 71.4\n",
            "# tr: 10, epochs: 100, learning rate: 0.005; Accuracy (test, 14 instances): 71.4\n",
            "# tr: 25, epochs: 100, learning rate: 0.005; Accuracy (test, 14 instances): 71.4\n",
            "# tr: 50, epochs: 100, learning rate: 0.005; Accuracy (test, 14 instances): 85.7\n",
            "# tr: 75, epochs: 100, learning rate: 0.005; Accuracy (test, 14 instances): 85.7\n",
            "# tr: 100, epochs: 100, learning rate: 0.005; Accuracy (test, 14 instances): 71.4\n",
            "# tr: 5, epochs: 5, learning rate: 0.010; Accuracy (test, 14 instances): 71.4\n",
            "# tr: 10, epochs: 5, learning rate: 0.010; Accuracy (test, 14 instances): 71.4\n",
            "# tr: 25, epochs: 5, learning rate: 0.010; Accuracy (test, 14 instances): 71.4\n",
            "# tr: 50, epochs: 5, learning rate: 0.010; Accuracy (test, 14 instances): 71.4\n",
            "# tr: 75, epochs: 5, learning rate: 0.010; Accuracy (test, 14 instances): 71.4\n",
            "# tr: 100, epochs: 5, learning rate: 0.010; Accuracy (test, 14 instances): 71.4\n",
            "# tr: 5, epochs: 10, learning rate: 0.010; Accuracy (test, 14 instances): 71.4\n",
            "# tr: 10, epochs: 10, learning rate: 0.010; Accuracy (test, 14 instances): 71.4\n",
            "# tr: 25, epochs: 10, learning rate: 0.010; Accuracy (test, 14 instances): 71.4\n",
            "# tr: 50, epochs: 10, learning rate: 0.010; Accuracy (test, 14 instances): 71.4\n",
            "# tr: 75, epochs: 10, learning rate: 0.010; Accuracy (test, 14 instances): 71.4\n",
            "# tr: 100, epochs: 10, learning rate: 0.010; Accuracy (test, 14 instances): 71.4\n",
            "# tr: 5, epochs: 20, learning rate: 0.010; Accuracy (test, 14 instances): 71.4\n",
            "# tr: 10, epochs: 20, learning rate: 0.010; Accuracy (test, 14 instances): 71.4\n",
            "# tr: 25, epochs: 20, learning rate: 0.010; Accuracy (test, 14 instances): 71.4\n",
            "# tr: 50, epochs: 20, learning rate: 0.010; Accuracy (test, 14 instances): 71.4\n",
            "# tr: 75, epochs: 20, learning rate: 0.010; Accuracy (test, 14 instances): 71.4\n",
            "# tr: 100, epochs: 20, learning rate: 0.010; Accuracy (test, 14 instances): 71.4\n",
            "# tr: 5, epochs: 50, learning rate: 0.010; Accuracy (test, 14 instances): 71.4\n",
            "# tr: 10, epochs: 50, learning rate: 0.010; Accuracy (test, 14 instances): 71.4\n",
            "# tr: 25, epochs: 50, learning rate: 0.010; Accuracy (test, 14 instances): 71.4\n",
            "# tr: 50, epochs: 50, learning rate: 0.010; Accuracy (test, 14 instances): 85.7\n",
            "# tr: 75, epochs: 50, learning rate: 0.010; Accuracy (test, 14 instances): 85.7\n",
            "# tr: 100, epochs: 50, learning rate: 0.010; Accuracy (test, 14 instances): 71.4\n",
            "# tr: 5, epochs: 100, learning rate: 0.010; Accuracy (test, 14 instances): 28.6\n",
            "# tr: 10, epochs: 100, learning rate: 0.010; Accuracy (test, 14 instances): 71.4\n",
            "# tr: 25, epochs: 100, learning rate: 0.010; Accuracy (test, 14 instances): 28.6\n",
            "# tr: 50, epochs: 100, learning rate: 0.010; Accuracy (test, 14 instances): 85.7\n",
            "# tr: 75, epochs: 100, learning rate: 0.010; Accuracy (test, 14 instances): 85.7\n",
            "# tr: 100, epochs: 100, learning rate: 0.010; Accuracy (test, 14 instances): 71.4\n",
            "# tr: 5, epochs: 5, learning rate: 0.050; Accuracy (test, 14 instances): 71.4\n",
            "# tr: 10, epochs: 5, learning rate: 0.050; Accuracy (test, 14 instances): 71.4\n",
            "# tr: 25, epochs: 5, learning rate: 0.050; Accuracy (test, 14 instances): 71.4\n",
            "# tr: 50, epochs: 5, learning rate: 0.050; Accuracy (test, 14 instances): 85.7\n",
            "# tr: 75, epochs: 5, learning rate: 0.050; Accuracy (test, 14 instances): 71.4\n",
            "# tr: 100, epochs: 5, learning rate: 0.050; Accuracy (test, 14 instances): 71.4\n",
            "# tr: 5, epochs: 10, learning rate: 0.050; Accuracy (test, 14 instances): 71.4\n",
            "# tr: 10, epochs: 10, learning rate: 0.050; Accuracy (test, 14 instances): 71.4\n",
            "# tr: 25, epochs: 10, learning rate: 0.050; Accuracy (test, 14 instances): 71.4\n",
            "# tr: 50, epochs: 10, learning rate: 0.050; Accuracy (test, 14 instances): 85.7\n",
            "# tr: 75, epochs: 10, learning rate: 0.050; Accuracy (test, 14 instances): 85.7\n",
            "# tr: 100, epochs: 10, learning rate: 0.050; Accuracy (test, 14 instances): 71.4\n",
            "# tr: 5, epochs: 20, learning rate: 0.050; Accuracy (test, 14 instances): 28.6\n",
            "# tr: 10, epochs: 20, learning rate: 0.050; Accuracy (test, 14 instances): 71.4\n",
            "# tr: 25, epochs: 20, learning rate: 0.050; Accuracy (test, 14 instances): 28.6\n",
            "# tr: 50, epochs: 20, learning rate: 0.050; Accuracy (test, 14 instances): 85.7\n",
            "# tr: 75, epochs: 20, learning rate: 0.050; Accuracy (test, 14 instances): 85.7\n",
            "# tr: 100, epochs: 20, learning rate: 0.050; Accuracy (test, 14 instances): 71.4\n",
            "# tr: 5, epochs: 50, learning rate: 0.050; Accuracy (test, 14 instances): 28.6\n",
            "# tr: 10, epochs: 50, learning rate: 0.050; Accuracy (test, 14 instances): 28.6\n",
            "# tr: 25, epochs: 50, learning rate: 0.050; Accuracy (test, 14 instances): 28.6\n",
            "# tr: 50, epochs: 50, learning rate: 0.050; Accuracy (test, 14 instances): 85.7\n",
            "# tr: 75, epochs: 50, learning rate: 0.050; Accuracy (test, 14 instances): 85.7\n",
            "# tr: 100, epochs: 50, learning rate: 0.050; Accuracy (test, 14 instances): 71.4\n",
            "# tr: 5, epochs: 100, learning rate: 0.050; Accuracy (test, 14 instances): 28.6\n",
            "# tr: 10, epochs: 100, learning rate: 0.050; Accuracy (test, 14 instances): 28.6\n",
            "# tr: 25, epochs: 100, learning rate: 0.050; Accuracy (test, 14 instances): 28.6\n",
            "# tr: 50, epochs: 100, learning rate: 0.050; Accuracy (test, 14 instances): 85.7\n",
            "# tr: 75, epochs: 100, learning rate: 0.050; Accuracy (test, 14 instances): 85.7\n",
            "# tr: 100, epochs: 100, learning rate: 0.050; Accuracy (test, 14 instances): 71.4\n"
          ]
        }
      ]
    },
    {
      "cell_type": "markdown",
      "metadata": {
        "id": "OFB9MtwML24O"
      },
      "source": [
        "### Question 3\n",
        "Write a couple paragraphs interpreting the results with all the combinations of hyperparameters. Drawing a plot will probably help you make a point. In particular, answer the following:\n",
        "- A. Do you need to train with all the training dataset to get the highest accuracy with the test dataset?\n",
        "- B. How do you justify that training the second run obtains worse accuracy than the first one (despite the second one uses more training data)?\n",
        "   ```\n",
        "#tr: 100, epochs:  20, learning rate: 0.050; Accuracy (test, 100 instances): 71.0\n",
        "#tr: 200, epochs:  20, learning rate: 0.005; Accuracy (test, 100 instances): 68.0\n",
        "```\n",
        "- C. Can you get higher accuracy with additional hyperparameters (higher than `80.0`)?\n",
        "- D. Is it always worth training for more epochs (while keeping all other hyperparameters fixed)?\n",
        "\n",
        "#### TODO: Add your answer here (code and text)\n",
        "\n"
      ]
    },
    {
      "cell_type": "markdown",
      "source": [
        "# A\n",
        "\n",
        "Accuracy of the Model and Training Data Size  The findings make it evident that utilizing the full training dataset does not always result in the best accuracy on the test dataset.  Higher or equivalent accuracies were obtained in several cases when training with a smaller portion of the data.  Overfitting when using the complete training set, particularly if the data contains noise or non-representative samples, is one of the possible causes of this.  Overfitting impairs the model's capacity to generalize effectively to novel, untested data, which has a detrimental impact on test accuracy.\n",
        "\n",
        "# B\n",
        "\n",
        "Increased Data and Decreased Accuracy in Training As seen by the particular findings you stated, the accuracy drops from 71.0% to 68.0% when more training data is used. This can be confusing, but it makes sense. This phenomena could happen for a number of reasons:\n",
        "\n",
        "**Quality of Additional Data:** The learning process may be less effective if the additional data has less informative features or more noise.\n",
        "\n",
        "**Model Simplicity:** Since the Perceptron is a linear classifier, adding more training data won't always help and may even highlight the model's shortcomings if the classification decision boundary is naturally complex or non-linear.\n",
        "\n",
        "# C\n",
        "\n",
        "Increasing Accuracy by Adding More Hyperparameters  It could be essential to make additional adjustments to the hyperparameters or perhaps add new ones in order to surpass an accuracy of 80.0%.  For example, experimenting with regularizations or dynamically modifying the learning rate during training may be beneficial.  Furthermore, employing sophisticated optimization algorithms like Adam or taking into account a momentum element in the weight update method may enhance learning and increase accuracy.\n",
        "\n",
        "# D\n",
        "\n",
        "Effect of Duration of Training (Epochs)  Better performance does not necessarily result from increasing the number of epochs.  More epochs give the model more chances to learn and fine-tune its weights, but they also raise the possibility of overfitting, especially if the training set is noisy or insufficiently diverse.  As a result, the number of epochs must be balanced and is influenced by the model's complexity as well as the type of input."
      ],
      "metadata": {
        "id": "aGPQAYh7-SOV"
      }
    },
    {
      "cell_type": "code",
      "source": [
        "import matplotlib.pyplot as plt\n",
        "\n",
        "# Sample data: Hyperparameters vs Accuracy\n",
        "training_percentages = [5, 10, 25, 50, 75, 100]\n",
        "accuracies = [71.4, 71.4, 71.4, 71.4, 85.7, 71.4]  # Sample accuracies corresponding to 100 epochs, lr=0.005\n",
        "\n",
        "plt.figure(figsize=(10, 6))\n",
        "plt.plot(training_percentages, accuracies, marker='o')\n",
        "plt.title('Accuracy vs. Training Data Size')\n",
        "plt.xlabel('Percentage of Training Data Used')\n",
        "plt.ylabel('Accuracy (%)')\n",
        "plt.grid(True)\n",
        "plt.show()\n"
      ],
      "metadata": {
        "colab": {
          "base_uri": "https://localhost:8080/",
          "height": 564
        },
        "id": "XsDTyMYF1woV",
        "outputId": "bbfb556d-6597-4534-97ea-e8b0bc40a729"
      },
      "execution_count": 8,
      "outputs": [
        {
          "output_type": "display_data",
          "data": {
            "text/plain": [
              "<Figure size 1000x600 with 1 Axes>"
            ],
            "image/png": "[encoded data removed]"
          },
          "metadata": {}
        }
      ]
    },
    {
      "cell_type": "markdown",
      "metadata": {
        "id": "38rA_Kp3wiBX"
      },
      "source": []
    }
  ],
  "metadata": {
    "accelerator": "GPU",
    "colab": {
      "provenance": []
    },
    "kernelspec": {
      "display_name": "Python 3",
      "name": "python3"
    },
    "language_info": {
      "codemirror_mode": {
        "name": "ipython",
        "version": 3
      },
      "file_extension": ".py",
      "mimetype": "text/x-python",
      "name": "python",
      "nbconvert_exporter": "python",
      "pygments_lexer": "ipython3",
      "version": "3.9.6"
    }
  },
  "nbformat": 4,
  "nbformat_minor": 0
}